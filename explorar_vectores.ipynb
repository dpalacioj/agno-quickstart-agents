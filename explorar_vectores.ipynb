{
 "cells": [
  {
   "cell_type": "markdown",
   "id": "ac56890c",
   "metadata": {},
   "source": [
    "# Exploración de Vectores en LanceDB\n",
    "\n",
    "Este notebook te permite visualizar y explorar los embeddings vectoriales almacenados en la base de datos LanceDB utilizada por el agente Agno."
   ]
  },
  {
   "cell_type": "markdown",
   "id": "992c1e41",
   "metadata": {},
   "source": [
    "## 1. Configuración Inicial\n",
    "\n",
    "Primero, importamos las bibliotecas necesarias y conectamos con la base de datos LanceDB."
   ]
  },
  {
   "cell_type": "code",
   "execution_count": 1,
   "id": "1332d78b",
   "metadata": {},
   "outputs": [],
   "source": [
    "import os\n",
    "import lancedb\n",
    "import pandas as pd\n",
    "import numpy as np\n",
    "import matplotlib.pyplot as plt\n",
    "import seaborn as sns\n",
    "from dotenv import load_dotenv\n",
    "\n",
    "# # Cargar variables de entorno\n",
    "# load_dotenv()"
   ]
  },
  {
   "cell_type": "markdown",
   "id": "c7c4bfb9",
   "metadata": {},
   "source": [
    "## 2. Conexión a LanceDB\n",
    "\n",
    "Conectamos con la base de datos y abrimos la tabla que contiene los embeddings."
   ]
  },
  {
   "cell_type": "code",
   "execution_count": 2,
   "id": "3a13d2b6",
   "metadata": {},
   "outputs": [
    {
     "name": "stdout",
     "output_type": "stream",
     "text": [
      "Total de vectores almacenados: 2\n",
      "\n",
      "Columnas disponibles:\n",
      "- vector\n",
      "- id\n",
      "- payload\n"
     ]
    },
    {
     "name": "stderr",
     "output_type": "stream",
     "text": [
      "\u001b[90m[\u001b[0m2025-06-09T15:11:35Z \u001b[33mWARN \u001b[0m lance::dataset::scanner\u001b[90m]\u001b[0m nprobes is not set because nearest has not been called yet\n"
     ]
    }
   ],
   "source": [
    "# Conexión a la base de datos LanceDB\n",
    "db = lancedb.connect(\"tmp/lancedb\")\n",
    "table = db.open_table(\"agno_docs\")\n",
    "\n",
    "# Obtener los datos como DataFrame\n",
    "data = table.to_pandas()\n",
    "\n",
    "# Mostrar información general\n",
    "print(f\"Total de vectores almacenados: {len(data)}\")\n",
    "print(\"\\nColumnas disponibles:\")\n",
    "for col in data.columns:\n",
    "    print(f\"- {col}\")"
   ]
  },
  {
   "cell_type": "code",
   "execution_count": 6,
   "id": "5c062635",
   "metadata": {},
   "outputs": [
    {
     "data": {
      "text/html": [
       "<div>\n",
       "<style scoped>\n",
       "    .dataframe tbody tr th:only-of-type {\n",
       "        vertical-align: middle;\n",
       "    }\n",
       "\n",
       "    .dataframe tbody tr th {\n",
       "        vertical-align: top;\n",
       "    }\n",
       "\n",
       "    .dataframe thead th {\n",
       "        text-align: right;\n",
       "    }\n",
       "</style>\n",
       "<table border=\"1\" class=\"dataframe\">\n",
       "  <thead>\n",
       "    <tr style=\"text-align: right;\">\n",
       "      <th></th>\n",
       "      <th>vector</th>\n",
       "      <th>id</th>\n",
       "      <th>payload</th>\n",
       "    </tr>\n",
       "  </thead>\n",
       "  <tbody>\n",
       "    <tr>\n",
       "      <th>0</th>\n",
       "      <td>[-0.048345234, 0.042083047, -0.012682365, -0.0...</td>\n",
       "      <td>fdc652b8510cca61dbf36f6cfc2a81f1</td>\n",
       "      <td>{\"name\": \"introduction.md\", \"meta_data\": {\"url...</td>\n",
       "    </tr>\n",
       "    <tr>\n",
       "      <th>1</th>\n",
       "      <td>[-0.019085087, 0.006491682, 0.012516942, 0.000...</td>\n",
       "      <td>4602be29482ab1252435eb703eba14e2</td>\n",
       "      <td>{\"name\": \"introduction.md\", \"meta_data\": {\"url...</td>\n",
       "    </tr>\n",
       "  </tbody>\n",
       "</table>\n",
       "</div>"
      ],
      "text/plain": [
       "                                              vector  \\\n",
       "0  [-0.048345234, 0.042083047, -0.012682365, -0.0...   \n",
       "1  [-0.019085087, 0.006491682, 0.012516942, 0.000...   \n",
       "\n",
       "                                 id  \\\n",
       "0  fdc652b8510cca61dbf36f6cfc2a81f1   \n",
       "1  4602be29482ab1252435eb703eba14e2   \n",
       "\n",
       "                                             payload  \n",
       "0  {\"name\": \"introduction.md\", \"meta_data\": {\"url...  \n",
       "1  {\"name\": \"introduction.md\", \"meta_data\": {\"url...  "
      ]
     },
     "execution_count": 6,
     "metadata": {},
     "output_type": "execute_result"
    }
   ],
   "source": [
    "data.head()"
   ]
  },
  {
   "cell_type": "markdown",
   "id": "f8f2c703",
   "metadata": {},
   "source": [
    "## 3. Exploración de Metadatos\n",
    "\n",
    "Vamos a examinar los metadatos asociados con los vectores (sin mostrar los vectores completos)."
   ]
  },
  {
   "cell_type": "code",
   "execution_count": 3,
   "id": "fa2c5ea2",
   "metadata": {},
   "outputs": [
    {
     "name": "stdout",
     "output_type": "stream",
     "text": [
      "- vector: [vector de dimensión 1536]\n",
      "  Primeras 5 dimensiones: [-0.04834523  0.04208305 -0.01268237 -0.00139948  0.01182778]\n",
      "- id: fdc652b8510cca61dbf36f6cfc2a81f1\n",
      "- payload: {\"name\": \"introduction.md\", \"meta_data\": {\"url\": \"https://docs.agno.com/introduction.md\", \"chunk\": 1... (texto truncado)\n"
     ]
    }
   ],
   "source": [
    "# Ver un ejemplo completo (sin mostrar el vector completo)\n",
    "sample = data.iloc[0].to_dict()\n",
    "\n",
    "# Mostrar metadatos y texto, pero resumir el vector\n",
    "for key, value in sample.items():\n",
    "    if key == \"vector\":\n",
    "        print(f\"- {key}: [vector de dimensión {len(value)}]\")\n",
    "        # Mostrar solo las primeras 5 dimensiones como ejemplo\n",
    "        print(f\"  Primeras 5 dimensiones: {value[:5]}\")\n",
    "    else:\n",
    "        # Para textos largos, mostrar resumen\n",
    "        if isinstance(value, str) and len(value) > 100:\n",
    "            print(f\"- {key}: {value[:100]}... (texto truncado)\")\n",
    "        else:\n",
    "            print(f\"- {key}: {value}\")"
   ]
  }
 ],
 "metadata": {
  "kernelspec": {
   "display_name": ".venv",
   "language": "python",
   "name": "python3"
  },
  "language_info": {
   "codemirror_mode": {
    "name": "ipython",
    "version": 3
   },
   "file_extension": ".py",
   "mimetype": "text/x-python",
   "name": "python",
   "nbconvert_exporter": "python",
   "pygments_lexer": "ipython3",
   "version": "3.12.7"
  }
 },
 "nbformat": 4,
 "nbformat_minor": 5
}
